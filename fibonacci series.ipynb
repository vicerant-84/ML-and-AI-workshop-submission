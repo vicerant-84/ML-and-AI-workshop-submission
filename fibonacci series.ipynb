{
 "cells": [
  {
   "cell_type": "code",
   "execution_count": 3,
   "metadata": {},
   "outputs": [
    {
     "name": "stdout",
     "output_type": "stream",
     "text": [
      "Enter the number of terms you want to print10\n",
      "0 1 1 2 3 5 8 13 21 34 "
     ]
    }
   ],
   "source": [
    "n = int(input('Enter the number of terms you want to print'))\n",
    "a = 0\n",
    "b = 1\n",
    "print('0 1',end = ' ')\n",
    "\n",
    "while n >2 :\n",
    "    b = a + b\n",
    "    a = b - a\n",
    "    print(b,end = ' ')\n",
    "    n = n - 1"
   ]
  }
 ],
 "metadata": {
  "kernelspec": {
   "display_name": "Python 3",
   "language": "python",
   "name": "python3"
  },
  "language_info": {
   "codemirror_mode": {
    "name": "ipython",
    "version": 3
   },
   "file_extension": ".py",
   "mimetype": "text/x-python",
   "name": "python",
   "nbconvert_exporter": "python",
   "pygments_lexer": "ipython3",
   "version": "3.7.6"
  }
 },
 "nbformat": 4,
 "nbformat_minor": 4
}
